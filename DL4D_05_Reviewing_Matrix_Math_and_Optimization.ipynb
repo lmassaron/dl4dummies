{
  "cells": [
    {
      "cell_type": "markdown",
      "metadata": {
        "id": "aZIMb3jhm7It"
      },
      "source": [
        "# Understanding Scalar, Vector, and Matrix Operations"
      ]
    },
    {
      "cell_type": "markdown",
      "metadata": {
        "id": "KCXnkV9km7I0"
      },
      "source": [
        "## Creating a matrix"
      ]
    },
    {
      "cell_type": "code",
      "execution_count": 1,
      "metadata": {
        "id": "pi5BS5Hdm7I1",
        "outputId": "f645c162-ca08-407f-a919-e3c952456276",
        "colab": {
          "base_uri": "https://localhost:8080/"
        }
      },
      "outputs": [
        {
          "output_type": "stream",
          "name": "stdout",
          "text": [
            "[[1 2 3]\n",
            " [4 5 6]\n",
            " [7 8 9]]\n",
            "1\n"
          ]
        }
      ],
      "source": [
        "import numpy as np\n",
        "\n",
        "myMatrix = np.array([[1,2,3], [4,5,6], [7,8,9]])\n",
        "print(myMatrix)\n",
        "print(myMatrix[0,0])"
      ]
    },
    {
      "cell_type": "code",
      "execution_count": 2,
      "metadata": {
        "id": "pPLdMkK1m7I5",
        "outputId": "aa9f81e5-c418-4aa8-93ad-12e8e3443ac7",
        "colab": {
          "base_uri": "https://localhost:8080/"
        }
      },
      "outputs": [
        {
          "output_type": "stream",
          "name": "stdout",
          "text": [
            "[[[1 2]\n",
            "  [3 4]]\n",
            "\n",
            " [[5 6]\n",
            "  [7 8]]]\n",
            "4\n"
          ]
        }
      ],
      "source": [
        "myMatrix = np.array([[[1,2], [3,4]], [[5,6], [7,8]]])\n",
        "print(myMatrix)\n",
        "print(myMatrix[0, 1, 1])"
      ]
    },
    {
      "cell_type": "code",
      "execution_count": 3,
      "metadata": {
        "id": "mM93SJnEm7I6",
        "outputId": "1333b862-323c-4809-c045-68b9295becc7",
        "colab": {
          "base_uri": "https://localhost:8080/"
        }
      },
      "outputs": [
        {
          "output_type": "stream",
          "name": "stdout",
          "text": [
            "[[1 1 1 1]\n",
            " [1 1 1 1]\n",
            " [1 1 1 1]\n",
            " [1 1 1 1]]\n"
          ]
        }
      ],
      "source": [
        "myMatrix = np.ones([4,4], dtype=np.int32)\n",
        "print(myMatrix)"
      ]
    },
    {
      "cell_type": "code",
      "execution_count": 5,
      "metadata": {
        "id": "XYdFjwKcm7I7",
        "outputId": "cd2aa718-fc40-46a6-efe0-f898ca7dddaa",
        "colab": {
          "base_uri": "https://localhost:8080/"
        }
      },
      "outputs": [
        {
          "output_type": "stream",
          "name": "stdout",
          "text": [
            "[[[ True  True  True  True]\n",
            "  [ True  True  True  True]\n",
            "  [ True  True  True  True]\n",
            "  [ True  True  True  True]]\n",
            "\n",
            " [[ True  True  True  True]\n",
            "  [ True  True  True  True]\n",
            "  [ True  True  True  True]\n",
            "  [ True  True  True  True]]\n",
            "\n",
            " [[ True  True  True  True]\n",
            "  [ True  True  True  True]\n",
            "  [ True  True  True  True]\n",
            "  [ True  True  True  True]]\n",
            "\n",
            " [[ True  True  True  True]\n",
            "  [ True  True  True  True]\n",
            "  [ True  True  True  True]\n",
            "  [ True  True  True  True]]]\n"
          ]
        }
      ],
      "source": [
        "myMatrix = np.ones([4,4,4], dtype=bool)\n",
        "print(myMatrix)"
      ]
    },
    {
      "cell_type": "code",
      "execution_count": 6,
      "metadata": {
        "id": "e1n0EdsNm7I8",
        "outputId": "75a89127-ded7-4524-c277-2964b1bd16ae",
        "colab": {
          "base_uri": "https://localhost:8080/"
        }
      },
      "outputs": [
        {
          "output_type": "stream",
          "name": "stdout",
          "text": [
            "[[1 2 3]\n",
            " [4 5 6]\n",
            " [7 8 9]]\n"
          ]
        }
      ],
      "source": [
        "myMatrix = np.mat([[1,2,3], [4,5,6], [7,8,9]])\n",
        "print(myMatrix)"
      ]
    },
    {
      "cell_type": "markdown",
      "metadata": {
        "id": "4xBVn39Pm7I9"
      },
      "source": [
        "## Performing matrix multiplication"
      ]
    },
    {
      "cell_type": "code",
      "execution_count": 9,
      "metadata": {
        "id": "cKSanIBjm7I_",
        "outputId": "4d5b1dd9-1c55-408f-c5c2-364e6f82b3cc",
        "colab": {
          "base_uri": "https://localhost:8080/"
        }
      },
      "outputs": [
        {
          "output_type": "stream",
          "name": "stdout",
          "text": [
            "[[ 1  4  9]\n",
            " [16 25 36]]\n"
          ]
        }
      ],
      "source": [
        "a = np.array([[1,2,3],[4,5,6]])\n",
        "b = np.array([[1,2,3],[4,5,6]])\n",
        "\n",
        "print(a * b)"
      ]
    },
    {
      "cell_type": "code",
      "execution_count": 10,
      "metadata": {
        "id": "kHjgvdFnm7JA",
        "outputId": "d769cba1-0dff-45ab-da10-5fb66aff9238",
        "colab": {
          "base_uri": "https://localhost:8080/"
        }
      },
      "outputs": [
        {
          "output_type": "stream",
          "name": "stdout",
          "text": [
            "[[22 28 34]\n",
            " [49 64 79]]\n"
          ]
        }
      ],
      "source": [
        "a = np.array([[1,2,3],[4,5,6]])\n",
        "b = np.array([[1,2,3],[3,4,5],[5,6,7]])\n",
        "\n",
        "print(a.dot(b))"
      ]
    },
    {
      "cell_type": "code",
      "execution_count": 12,
      "metadata": {
        "id": "tEbvI6M8m7JC",
        "outputId": "80051053-473e-4e5c-c50c-e750ebe6a4cc",
        "colab": {
          "base_uri": "https://localhost:8080/"
        }
      },
      "outputs": [
        {
          "output_type": "stream",
          "name": "stdout",
          "text": [
            "[[22 28 34]\n",
            " [49 64 79]]\n"
          ]
        }
      ],
      "source": [
        "a = np.mat([[1,2,3],[4,5,6]])\n",
        "b = np.mat([[1,2,3],[3,4,5],[5,6,7]])\n",
        "\n",
        "print(a * b)"
      ]
    },
    {
      "cell_type": "markdown",
      "metadata": {
        "id": "NWAUqjZHm7JD"
      },
      "source": [
        "## Executing advanced matrix operations"
      ]
    },
    {
      "cell_type": "code",
      "execution_count": 13,
      "metadata": {
        "id": "KodDC-3km7JE",
        "outputId": "be604d70-99e7-43ea-85c0-befc5f8954b9",
        "colab": {
          "base_uri": "https://localhost:8080/"
        }
      },
      "outputs": [
        {
          "output_type": "stream",
          "name": "stdout",
          "text": [
            "[1 2 3 4 5 6 7 8]\n",
            "[[1 2 3 4]\n",
            " [5 6 7 8]]\n",
            "[[[1 2]\n",
            "  [3 4]]\n",
            "\n",
            " [[5 6]\n",
            "  [7 8]]]\n"
          ]
        }
      ],
      "source": [
        "changeIt = np.array([1, 2, 3, 4, 5, 6, 7, 8])\n",
        "\n",
        "print(changeIt)\n",
        "\n",
        "print(changeIt.reshape(2, 4))\n",
        "\n",
        "print(changeIt.reshape(2, 2, 2))"
      ]
    },
    {
      "cell_type": "code",
      "execution_count": 14,
      "metadata": {
        "id": "o5nMC5iFm7JF",
        "outputId": "82edc37d-fb8b-4848-91b3-faa4edc2301e",
        "colab": {
          "base_uri": "https://localhost:8080/"
        }
      },
      "outputs": [
        {
          "output_type": "stream",
          "name": "stdout",
          "text": [
            "[[1 5]\n",
            " [2 6]\n",
            " [3 7]\n",
            " [4 8]]\n"
          ]
        }
      ],
      "source": [
        "changeIt = np.array([[1, 2, 3, 4], [5, 6, 7, 8]])\n",
        "\n",
        "print(np.transpose(changeIt))"
      ]
    },
    {
      "cell_type": "code",
      "execution_count": 15,
      "metadata": {
        "id": "BdpRg9jQm7JG",
        "outputId": "211f28da-8535-46ae-b44a-f594ee2c29eb",
        "colab": {
          "base_uri": "https://localhost:8080/"
        }
      },
      "outputs": [
        {
          "output_type": "stream",
          "name": "stdout",
          "text": [
            "[[1. 0. 0. 0.]\n",
            " [0. 1. 0. 0.]\n",
            " [0. 0. 1. 0.]\n",
            " [0. 0. 0. 1.]]\n"
          ]
        }
      ],
      "source": [
        "print(np.identity(4))"
      ]
    },
    {
      "cell_type": "code",
      "execution_count": 16,
      "metadata": {
        "id": "7Lmn2Vgzm7JG",
        "outputId": "255e5a04-5a29-434b-d7d8-106d0c22037d",
        "colab": {
          "base_uri": "https://localhost:8080/"
        }
      },
      "outputs": [
        {
          "output_type": "stream",
          "name": "stdout",
          "text": [
            "True\n"
          ]
        }
      ],
      "source": [
        "a = np.array([[1, 2], [3, 4]])\n",
        "b = np.linalg.inv(a)\n",
        "\n",
        "print(np.allclose(np.dot(a,b), np.identity(2)))"
      ]
    },
    {
      "cell_type": "markdown",
      "metadata": {
        "id": "bB35DGyLm7JH"
      },
      "source": [
        "## Extending analysis to tensors"
      ]
    },
    {
      "cell_type": "code",
      "execution_count": 17,
      "metadata": {
        "id": "6khbuIvUm7JI",
        "outputId": "a4029e18-05ce-4254-efc9-2cdfa7712618",
        "colab": {
          "base_uri": "https://localhost:8080/"
        }
      },
      "outputs": [
        {
          "output_type": "stream",
          "name": "stdout",
          "text": [
            "[2.5 6.5 0.5]\n"
          ]
        }
      ],
      "source": [
        "inputs = np.array([5, 10, 15])\n",
        "weights = np.array([[.5, .2, -1], [.3, .4, .1], [-.2, .1, .3]])\n",
        "\n",
        "result = np.dot(inputs, weights)\n",
        "print(result)"
      ]
    },
    {
      "cell_type": "markdown",
      "metadata": {
        "id": "nQuJ2Bn3m7JI"
      },
      "source": [
        "## Using vectorization effectively"
      ]
    },
    {
      "cell_type": "code",
      "execution_count": 18,
      "metadata": {
        "id": "_eEfaX-Wm7JJ",
        "outputId": "c41af5aa-a689-4734-c0ac-9772bb315300",
        "colab": {
          "base_uri": "https://localhost:8080/"
        }
      },
      "outputs": [
        {
          "output_type": "stream",
          "name": "stdout",
          "text": [
            "[2 4 6 8]\n"
          ]
        }
      ],
      "source": [
        "def doAdd(a, b):\n",
        "    return a + b\n",
        "\n",
        "vectAdd = np.vectorize(doAdd)\n",
        "\n",
        "print(vectAdd([1, 2, 3, 4], [1, 2, 3, 4]))"
      ]
    }
  ],
  "metadata": {
    "kernelspec": {
      "display_name": "Python 3",
      "language": "python",
      "name": "python3"
    },
    "language_info": {
      "codemirror_mode": {
        "name": "ipython",
        "version": 3
      },
      "file_extension": ".py",
      "mimetype": "text/x-python",
      "name": "python",
      "nbconvert_exporter": "python",
      "pygments_lexer": "ipython3",
      "version": "3.6.5"
    },
    "colab": {
      "provenance": []
    }
  },
  "nbformat": 4,
  "nbformat_minor": 0
}