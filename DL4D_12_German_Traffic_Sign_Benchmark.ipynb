{
  "cells": [
    {
      "cell_type": "markdown",
      "metadata": {
        "id": "45jXfJUS4wE0"
      },
      "source": [
        "# Distinguishing Traffic Signs"
      ]
    },
    {
      "cell_type": "markdown",
      "metadata": {
        "id": "BKKwtlIu4wE4"
      },
      "source": [
        "## Preparing image data"
      ]
    },
    {
      "cell_type": "code",
      "execution_count": 1,
      "metadata": {
        "id": "570UTTOnZrie"
      },
      "outputs": [],
      "source": [
        "import numpy as np\n",
        "import zipfile\n",
        "import pprint\n",
        "\n",
        "from skimage.transform import resize\n",
        "from imageio import imread\n",
        "\n",
        "import matplotlib.pyplot as plt\n",
        "%matplotlib inline\n",
        "\n",
        "import warnings\n",
        "warnings.filterwarnings(\"ignore\")"
      ]
    },
    {
      "cell_type": "code",
      "execution_count": 3,
      "metadata": {
        "id": "SQB_Z5rWboUK"
      },
      "outputs": [],
      "source": [
        "import tensorflow as tf\n",
        "from tensorflow import keras\n",
        "from tensorflow.keras.models import Sequential\n",
        "from tensorflow.keras.optimizers import Adam\n",
        "from tensorflow.keras.preprocessing.image import ImageDataGenerator \n",
        "from tensorflow.keras.utils import to_categorical\n",
        "from tensorflow.keras.layers import Conv2D, MaxPooling2D\n",
        "from tensorflow.keras.layers import Flatten, Dense, Dropout"
      ]
    },
    {
      "cell_type": "code",
      "execution_count": 4,
      "metadata": {
        "id": "_UNEK_X2ZP5P"
      },
      "outputs": [],
      "source": [
        "import urllib.request\n",
        "import os.path\n",
        "if not os.path.exists(\"GTSRB_Final_Training_Images.zip\"):\n",
        "    url = (\"https://sid.erda.dk/public/archives/\"\n",
        "    + \"daaeac0d7ce1152aea9b61d9f1e19370/\"\n",
        "    + \"GTSRB_Final_Training_Images.zip\")\n",
        "    filename = \"./GTSRB_Final_Training_Images.zip\"\n",
        "    urllib.request.urlretrieve(url, filename)"
      ]
    },
    {
      "cell_type": "code",
      "execution_count": 5,
      "metadata": {
        "id": "VUiHtNGJsBuT"
      },
      "outputs": [],
      "source": [
        "IMG_SIZE = 32\n",
        "TEST_SIZE = 0.2"
      ]
    },
    {
      "cell_type": "code",
      "execution_count": 6,
      "metadata": {
        "id": "pJJ8P5d2I1cF"
      },
      "outputs": [],
      "source": [
        "X, Xt, y, yt = list(), list(), list(), list()\n",
        "\n",
        "archive = zipfile.ZipFile(\n",
        "          'GTSRB_Final_Training_Images.zip', 'r')\n",
        "file_paths = [file for file in archive.namelist() \n",
        "              if '.ppm' in file]\n",
        "\n",
        "for filename in file_paths:\n",
        "    with archive.open(filename) as img_file:\n",
        "        img = imread(img_file.read())\n",
        "    img = resize(img, \n",
        "                 output_shape=(IMG_SIZE, IMG_SIZE),\n",
        "                 mode='reflect', anti_aliasing=True)\n",
        "    img_class = int(filename.split('/')[-2])\n",
        "    \n",
        "    if (hash(filename) % 1000) / 1000 > TEST_SIZE:\n",
        "        X.append(img)\n",
        "        y.append(img_class)\n",
        "    else:\n",
        "        Xt.append(img)\n",
        "        yt.append(img_class)\n",
        "\n",
        "archive.close()"
      ]
    },
    {
      "cell_type": "code",
      "execution_count": 7,
      "metadata": {
        "colab": {
          "base_uri": "https://localhost:8080/"
        },
        "id": "5KZsP3GIZ6AI",
        "outputId": "69f38e30-0d9d-41d6-d0dd-07ca5982746c"
      },
      "outputs": [
        {
          "output_type": "stream",
          "name": "stdout",
          "text": [
            "Train size:31219 test size:7990 (0.204)\n"
          ]
        }
      ],
      "source": [
        "test_ratio = len(Xt) / len(file_paths)\n",
        "print(\"Train size:{} test size:{} ({:0.3f})\".format(len(X), \n",
        "                len(Xt), \n",
        "                test_ratio))"
      ]
    },
    {
      "cell_type": "code",
      "execution_count": 8,
      "metadata": {
        "colab": {
          "base_uri": "https://localhost:8080/",
          "height": 282
        },
        "id": "AeVvZi61s87C",
        "outputId": "1df52066-7a51-43dd-b0e2-7e64f19b92b0"
      },
      "outputs": [
        {
          "output_type": "stream",
          "name": "stdout",
          "text": [
            "No classes:43\n"
          ]
        },
        {
          "output_type": "display_data",
          "data": {
            "text/plain": [
              "<Figure size 432x288 with 1 Axes>"
            ],
            "image/png": "[encoded data removed]"
          },
          "metadata": {
            "needs_background": "light"
          }
        }
      ],
      "source": [
        "classes, dist = np.unique(y+yt, return_counts=True)\n",
        "NUM_CLASSES = len(classes)\n",
        "print (\"No classes:{}\".format(NUM_CLASSES))\n",
        "\n",
        "plt.bar(classes, dist, align='center', alpha=0.5)\n",
        "plt.show()"
      ]
    },
    {
      "cell_type": "code",
      "execution_count": 9,
      "metadata": {
        "id": "z0ULObCbxO97"
      },
      "outputs": [],
      "source": [
        "class_weight = {c:dist[c]/np.sum(dist) for c in classes}"
      ]
    },
    {
      "cell_type": "markdown",
      "metadata": {
        "id": "zWYudzUH4wFi"
      },
      "source": [
        "## Running a classification task"
      ]
    },
    {
      "cell_type": "code",
      "execution_count": 10,
      "metadata": {
        "id": "MW88y4HLbkpJ"
      },
      "outputs": [],
      "source": [
        "batch_size = 256\n",
        "tgen=ImageDataGenerator(rescale=1./255,\n",
        "                        rotation_range=5,\n",
        "                        width_shift_range=0.10, \n",
        "                        height_shift_range=0.10)\n",
        "\n",
        "train_gen = tgen.flow(np.array(X), \n",
        "                      to_categorical(y), \n",
        "                      batch_size=batch_size)"
      ]
    },
    {
      "cell_type": "code",
      "execution_count": 11,
      "metadata": {
        "id": "sSYl85NofHc7"
      },
      "outputs": [],
      "source": [
        "vgen=ImageDataGenerator(rescale=1./255)\n",
        "\n",
        "val_gen = vgen.flow(np.array(Xt), \n",
        "                    to_categorical(yt), \n",
        "                    batch_size=batch_size)"
      ]
    },
    {
      "cell_type": "code",
      "execution_count": 12,
      "metadata": {
        "id": "wP6BgtRib00-"
      },
      "outputs": [],
      "source": [
        "def small_cnn():\n",
        "    model = Sequential()\n",
        "    model.add(Conv2D(32, (5, 5), padding='same',\n",
        "                     input_shape=(IMG_SIZE, IMG_SIZE, 3),\n",
        "                     activation='relu'))\n",
        "    model.add(Conv2D(64, (5, 5), activation='relu'))   \n",
        "    model.add(Flatten())\n",
        "    model.add(Dense(768, activation='relu'))\n",
        "    model.add(Dropout(0.4))\n",
        "    model.add(Dense(NUM_CLASSES, activation='softmax'))\n",
        "    return model\n",
        "\n",
        "\n",
        "model = small_cnn()\n",
        "model.compile(loss='categorical_crossentropy', \n",
        "              optimizer=Adam(),\n",
        "              metrics=['accuracy'])"
      ]
    },
    {
      "cell_type": "code",
      "execution_count": 13,
      "metadata": {
        "colab": {
          "base_uri": "https://localhost:8080/"
        },
        "id": "vifoZNqpcU1z",
        "outputId": "9b887cc9-acf3-437b-b681-df831bc29664"
      },
      "outputs": [
        {
          "output_type": "stream",
          "name": "stdout",
          "text": [
            "Epoch 1/100\n",
            "121/121 - 30s - loss: 0.1118 - accuracy: 0.0683 - val_loss: 3.4798 - val_accuracy: 0.1040 - 30s/epoch - 248ms/step\n",
            "Epoch 2/100\n",
            "121/121 - 15s - loss: 0.1002 - accuracy: 0.1420 - val_loss: 2.9420 - val_accuracy: 0.2597 - 15s/epoch - 127ms/step\n",
            "Epoch 3/100\n",
            "121/121 - 16s - loss: 0.0758 - accuracy: 0.2889 - val_loss: 1.9754 - val_accuracy: 0.4464 - 16s/epoch - 132ms/step\n",
            "Epoch 4/100\n",
            "121/121 - 16s - loss: 0.0603 - accuracy: 0.3902 - val_loss: 1.5274 - val_accuracy: 0.5340 - 16s/epoch - 129ms/step\n",
            "Epoch 5/100\n",
            "121/121 - 17s - loss: 0.0524 - accuracy: 0.4468 - val_loss: 1.3016 - val_accuracy: 0.6040 - 17s/epoch - 137ms/step\n",
            "Epoch 6/100\n",
            "121/121 - 16s - loss: 0.0474 - accuracy: 0.4952 - val_loss: 1.1302 - val_accuracy: 0.6384 - 16s/epoch - 129ms/step\n",
            "Epoch 7/100\n",
            "121/121 - 16s - loss: 0.0434 - accuracy: 0.5287 - val_loss: 0.9960 - val_accuracy: 0.6998 - 16s/epoch - 135ms/step\n",
            "Epoch 8/100\n",
            "121/121 - 16s - loss: 0.0397 - accuracy: 0.5654 - val_loss: 0.8540 - val_accuracy: 0.7253 - 16s/epoch - 132ms/step\n",
            "Epoch 9/100\n",
            "121/121 - 16s - loss: 0.0361 - accuracy: 0.6003 - val_loss: 0.7326 - val_accuracy: 0.7781 - 16s/epoch - 132ms/step\n",
            "Epoch 10/100\n",
            "121/121 - 17s - loss: 0.0328 - accuracy: 0.6371 - val_loss: 0.6883 - val_accuracy: 0.7839 - 17s/epoch - 140ms/step\n",
            "Epoch 11/100\n",
            "121/121 - 16s - loss: 0.0304 - accuracy: 0.6571 - val_loss: 0.5763 - val_accuracy: 0.8252 - 16s/epoch - 130ms/step\n",
            "Epoch 12/100\n",
            "121/121 - 16s - loss: 0.0276 - accuracy: 0.6862 - val_loss: 0.5009 - val_accuracy: 0.8586 - 16s/epoch - 130ms/step\n",
            "Epoch 13/100\n",
            "121/121 - 16s - loss: 0.0258 - accuracy: 0.7038 - val_loss: 0.4489 - val_accuracy: 0.8751 - 16s/epoch - 128ms/step\n",
            "Epoch 14/100\n",
            "121/121 - 16s - loss: 0.0242 - accuracy: 0.7257 - val_loss: 0.4200 - val_accuracy: 0.8841 - 16s/epoch - 130ms/step\n",
            "Epoch 15/100\n",
            "121/121 - 16s - loss: 0.0224 - accuracy: 0.7445 - val_loss: 0.3641 - val_accuracy: 0.9006 - 16s/epoch - 130ms/step\n",
            "Epoch 16/100\n",
            "121/121 - 17s - loss: 0.0208 - accuracy: 0.7609 - val_loss: 0.3420 - val_accuracy: 0.8991 - 17s/epoch - 140ms/step\n",
            "Epoch 17/100\n",
            "121/121 - 16s - loss: 0.0196 - accuracy: 0.7751 - val_loss: 0.3171 - val_accuracy: 0.9110 - 16s/epoch - 131ms/step\n",
            "Epoch 18/100\n",
            "121/121 - 16s - loss: 0.0185 - accuracy: 0.7836 - val_loss: 0.2894 - val_accuracy: 0.9205 - 16s/epoch - 134ms/step\n",
            "Epoch 19/100\n",
            "121/121 - 17s - loss: 0.0177 - accuracy: 0.7899 - val_loss: 0.2733 - val_accuracy: 0.9223 - 17s/epoch - 139ms/step\n",
            "Epoch 20/100\n",
            "121/121 - 17s - loss: 0.0173 - accuracy: 0.7978 - val_loss: 0.2466 - val_accuracy: 0.9307 - 17s/epoch - 139ms/step\n",
            "Epoch 21/100\n",
            "121/121 - 18s - loss: 0.0158 - accuracy: 0.8126 - val_loss: 0.2262 - val_accuracy: 0.9356 - 18s/epoch - 147ms/step\n",
            "Epoch 22/100\n",
            "121/121 - 16s - loss: 0.0155 - accuracy: 0.8167 - val_loss: 0.2222 - val_accuracy: 0.9424 - 16s/epoch - 136ms/step\n",
            "Epoch 23/100\n",
            "121/121 - 15s - loss: 0.0148 - accuracy: 0.8246 - val_loss: 0.2164 - val_accuracy: 0.9401 - 15s/epoch - 128ms/step\n",
            "Epoch 24/100\n",
            "121/121 - 15s - loss: 0.0141 - accuracy: 0.8331 - val_loss: 0.2149 - val_accuracy: 0.9409 - 15s/epoch - 127ms/step\n",
            "Epoch 25/100\n",
            "121/121 - 16s - loss: 0.0142 - accuracy: 0.8355 - val_loss: 0.1903 - val_accuracy: 0.9493 - 16s/epoch - 131ms/step\n",
            "Epoch 26/100\n",
            "121/121 - 17s - loss: 0.0135 - accuracy: 0.8386 - val_loss: 0.1795 - val_accuracy: 0.9486 - 17s/epoch - 137ms/step\n",
            "Epoch 27/100\n",
            "121/121 - 17s - loss: 0.0126 - accuracy: 0.8464 - val_loss: 0.1722 - val_accuracy: 0.9541 - 17s/epoch - 137ms/step\n",
            "Epoch 28/100\n",
            "121/121 - 16s - loss: 0.0123 - accuracy: 0.8515 - val_loss: 0.1649 - val_accuracy: 0.9578 - 16s/epoch - 133ms/step\n",
            "Epoch 29/100\n",
            "121/121 - 16s - loss: 0.0124 - accuracy: 0.8490 - val_loss: 0.1598 - val_accuracy: 0.9526 - 16s/epoch - 133ms/step\n",
            "Epoch 30/100\n",
            "121/121 - 16s - loss: 0.0117 - accuracy: 0.8610 - val_loss: 0.1439 - val_accuracy: 0.9633 - 16s/epoch - 129ms/step\n",
            "Epoch 31/100\n",
            "121/121 - 16s - loss: 0.0113 - accuracy: 0.8617 - val_loss: 0.1521 - val_accuracy: 0.9585 - 16s/epoch - 130ms/step\n",
            "Epoch 32/100\n",
            "121/121 - 17s - loss: 0.0110 - accuracy: 0.8668 - val_loss: 0.1392 - val_accuracy: 0.9640 - 17s/epoch - 140ms/step\n",
            "Epoch 33/100\n",
            "121/121 - 15s - loss: 0.0105 - accuracy: 0.8703 - val_loss: 0.1324 - val_accuracy: 0.9676 - 15s/epoch - 128ms/step\n",
            "Epoch 34/100\n",
            "121/121 - 16s - loss: 0.0106 - accuracy: 0.8715 - val_loss: 0.1316 - val_accuracy: 0.9631 - 16s/epoch - 133ms/step\n",
            "Epoch 35/100\n",
            "121/121 - 16s - loss: 0.0104 - accuracy: 0.8754 - val_loss: 0.1332 - val_accuracy: 0.9660 - 16s/epoch - 130ms/step\n",
            "Epoch 36/100\n",
            "121/121 - 16s - loss: 0.0096 - accuracy: 0.8815 - val_loss: 0.1154 - val_accuracy: 0.9700 - 16s/epoch - 133ms/step\n",
            "Epoch 37/100\n",
            "121/121 - 17s - loss: 0.0098 - accuracy: 0.8803 - val_loss: 0.1289 - val_accuracy: 0.9669 - 17s/epoch - 139ms/step\n",
            "Epoch 38/100\n",
            "121/121 - 16s - loss: 0.0097 - accuracy: 0.8814 - val_loss: 0.1268 - val_accuracy: 0.9645 - 16s/epoch - 136ms/step\n",
            "Epoch 39/100\n",
            "121/121 - 15s - loss: 0.0090 - accuracy: 0.8892 - val_loss: 0.1105 - val_accuracy: 0.9700 - 15s/epoch - 123ms/step\n",
            "Epoch 40/100\n",
            "121/121 - 16s - loss: 0.0092 - accuracy: 0.8863 - val_loss: 0.1170 - val_accuracy: 0.9699 - 16s/epoch - 131ms/step\n",
            "Epoch 41/100\n",
            "121/121 - 17s - loss: 0.0090 - accuracy: 0.8890 - val_loss: 0.1126 - val_accuracy: 0.9700 - 17s/epoch - 137ms/step\n",
            "Epoch 42/100\n",
            "121/121 - 18s - loss: 0.0087 - accuracy: 0.8918 - val_loss: 0.1030 - val_accuracy: 0.9728 - 18s/epoch - 147ms/step\n",
            "Epoch 43/100\n",
            "121/121 - 16s - loss: 0.0087 - accuracy: 0.8935 - val_loss: 0.1050 - val_accuracy: 0.9727 - 16s/epoch - 129ms/step\n",
            "Epoch 44/100\n",
            "121/121 - 16s - loss: 0.0086 - accuracy: 0.8928 - val_loss: 0.1096 - val_accuracy: 0.9680 - 16s/epoch - 128ms/step\n",
            "Epoch 45/100\n",
            "121/121 - 16s - loss: 0.0086 - accuracy: 0.8951 - val_loss: 0.0971 - val_accuracy: 0.9733 - 16s/epoch - 131ms/step\n",
            "Epoch 46/100\n",
            "121/121 - 16s - loss: 0.0080 - accuracy: 0.8995 - val_loss: 0.0949 - val_accuracy: 0.9739 - 16s/epoch - 132ms/step\n",
            "Epoch 47/100\n",
            "121/121 - 17s - loss: 0.0079 - accuracy: 0.9026 - val_loss: 0.0999 - val_accuracy: 0.9745 - 17s/epoch - 139ms/step\n",
            "Epoch 48/100\n",
            "121/121 - 18s - loss: 0.0078 - accuracy: 0.9030 - val_loss: 0.0950 - val_accuracy: 0.9762 - 18s/epoch - 148ms/step\n",
            "Epoch 49/100\n",
            "121/121 - 16s - loss: 0.0076 - accuracy: 0.9041 - val_loss: 0.0880 - val_accuracy: 0.9776 - 16s/epoch - 132ms/step\n",
            "Epoch 50/100\n",
            "121/121 - 16s - loss: 0.0077 - accuracy: 0.9061 - val_loss: 0.0894 - val_accuracy: 0.9761 - 16s/epoch - 129ms/step\n",
            "Epoch 51/100\n",
            "121/121 - 16s - loss: 0.0074 - accuracy: 0.9071 - val_loss: 0.0847 - val_accuracy: 0.9793 - 16s/epoch - 132ms/step\n",
            "Epoch 52/100\n",
            "121/121 - 17s - loss: 0.0072 - accuracy: 0.9100 - val_loss: 0.0857 - val_accuracy: 0.9771 - 17s/epoch - 138ms/step\n",
            "Epoch 53/100\n",
            "121/121 - 17s - loss: 0.0071 - accuracy: 0.9102 - val_loss: 0.0850 - val_accuracy: 0.9783 - 17s/epoch - 141ms/step\n",
            "Epoch 54/100\n",
            "121/121 - 16s - loss: 0.0072 - accuracy: 0.9092 - val_loss: 0.0819 - val_accuracy: 0.9786 - 16s/epoch - 128ms/step\n",
            "Epoch 55/100\n",
            "121/121 - 16s - loss: 0.0069 - accuracy: 0.9145 - val_loss: 0.0801 - val_accuracy: 0.9819 - 16s/epoch - 131ms/step\n",
            "Epoch 56/100\n",
            "121/121 - 16s - loss: 0.0067 - accuracy: 0.9144 - val_loss: 0.0794 - val_accuracy: 0.9812 - 16s/epoch - 131ms/step\n",
            "Epoch 57/100\n",
            "121/121 - 16s - loss: 0.0070 - accuracy: 0.9119 - val_loss: 0.0738 - val_accuracy: 0.9815 - 16s/epoch - 136ms/step\n",
            "Epoch 58/100\n",
            "121/121 - 16s - loss: 0.0066 - accuracy: 0.9178 - val_loss: 0.0759 - val_accuracy: 0.9795 - 16s/epoch - 130ms/step\n",
            "Epoch 59/100\n",
            "121/121 - 16s - loss: 0.0067 - accuracy: 0.9168 - val_loss: 0.0700 - val_accuracy: 0.9819 - 16s/epoch - 130ms/step\n",
            "Epoch 60/100\n",
            "121/121 - 16s - loss: 0.0066 - accuracy: 0.9175 - val_loss: 0.0836 - val_accuracy: 0.9772 - 16s/epoch - 134ms/step\n",
            "Epoch 61/100\n",
            "121/121 - 16s - loss: 0.0066 - accuracy: 0.9158 - val_loss: 0.0789 - val_accuracy: 0.9797 - 16s/epoch - 130ms/step\n",
            "Epoch 62/100\n",
            "121/121 - 16s - loss: 0.0067 - accuracy: 0.9154 - val_loss: 0.0745 - val_accuracy: 0.9808 - 16s/epoch - 129ms/step\n",
            "Epoch 63/100\n",
            "121/121 - 16s - loss: 0.0061 - accuracy: 0.9200 - val_loss: 0.0773 - val_accuracy: 0.9798 - 16s/epoch - 136ms/step\n",
            "Epoch 64/100\n",
            "121/121 - 16s - loss: 0.0060 - accuracy: 0.9236 - val_loss: 0.0655 - val_accuracy: 0.9832 - 16s/epoch - 130ms/step\n",
            "Epoch 65/100\n",
            "121/121 - 16s - loss: 0.0063 - accuracy: 0.9225 - val_loss: 0.0673 - val_accuracy: 0.9822 - 16s/epoch - 132ms/step\n",
            "Epoch 66/100\n",
            "121/121 - 16s - loss: 0.0058 - accuracy: 0.9255 - val_loss: 0.0658 - val_accuracy: 0.9835 - 16s/epoch - 136ms/step\n",
            "Epoch 67/100\n",
            "121/121 - 16s - loss: 0.0059 - accuracy: 0.9247 - val_loss: 0.0725 - val_accuracy: 0.9815 - 16s/epoch - 132ms/step\n",
            "Epoch 68/100\n",
            "121/121 - 16s - loss: 0.0059 - accuracy: 0.9234 - val_loss: 0.0735 - val_accuracy: 0.9826 - 16s/epoch - 129ms/step\n",
            "Epoch 69/100\n",
            "121/121 - 17s - loss: 0.0058 - accuracy: 0.9243 - val_loss: 0.0823 - val_accuracy: 0.9795 - 17s/epoch - 143ms/step\n",
            "Epoch 70/100\n",
            "121/121 - 16s - loss: 0.0057 - accuracy: 0.9281 - val_loss: 0.0729 - val_accuracy: 0.9821 - 16s/epoch - 132ms/step\n",
            "Epoch 71/100\n",
            "121/121 - 17s - loss: 0.0057 - accuracy: 0.9284 - val_loss: 0.0629 - val_accuracy: 0.9845 - 17s/epoch - 137ms/step\n",
            "Epoch 72/100\n",
            "121/121 - 16s - loss: 0.0057 - accuracy: 0.9265 - val_loss: 0.0609 - val_accuracy: 0.9849 - 16s/epoch - 131ms/step\n",
            "Epoch 73/100\n",
            "121/121 - 15s - loss: 0.0056 - accuracy: 0.9272 - val_loss: 0.0627 - val_accuracy: 0.9842 - 15s/epoch - 126ms/step\n",
            "Epoch 74/100\n",
            "121/121 - 18s - loss: 0.0053 - accuracy: 0.9313 - val_loss: 0.0604 - val_accuracy: 0.9864 - 18s/epoch - 146ms/step\n",
            "Epoch 75/100\n",
            "121/121 - 16s - loss: 0.0055 - accuracy: 0.9302 - val_loss: 0.0625 - val_accuracy: 0.9849 - 16s/epoch - 131ms/step\n",
            "Epoch 76/100\n",
            "121/121 - 15s - loss: 0.0054 - accuracy: 0.9316 - val_loss: 0.0833 - val_accuracy: 0.9778 - 15s/epoch - 128ms/step\n",
            "Epoch 77/100\n",
            "121/121 - 15s - loss: 0.0052 - accuracy: 0.9314 - val_loss: 0.0747 - val_accuracy: 0.9810 - 15s/epoch - 128ms/step\n",
            "Epoch 78/100\n",
            "121/121 - 16s - loss: 0.0051 - accuracy: 0.9330 - val_loss: 0.0675 - val_accuracy: 0.9829 - 16s/epoch - 132ms/step\n",
            "Epoch 79/100\n",
            "121/121 - 17s - loss: 0.0054 - accuracy: 0.9312 - val_loss: 0.0582 - val_accuracy: 0.9873 - 17s/epoch - 144ms/step\n",
            "Epoch 80/100\n",
            "121/121 - 16s - loss: 0.0052 - accuracy: 0.9320 - val_loss: 0.0697 - val_accuracy: 0.9812 - 16s/epoch - 130ms/step\n",
            "Epoch 81/100\n",
            "121/121 - 16s - loss: 0.0052 - accuracy: 0.9328 - val_loss: 0.0611 - val_accuracy: 0.9859 - 16s/epoch - 135ms/step\n",
            "Epoch 82/100\n",
            "121/121 - 16s - loss: 0.0051 - accuracy: 0.9327 - val_loss: 0.0788 - val_accuracy: 0.9812 - 16s/epoch - 132ms/step\n",
            "Epoch 83/100\n",
            "121/121 - 16s - loss: 0.0049 - accuracy: 0.9356 - val_loss: 0.0567 - val_accuracy: 0.9883 - 16s/epoch - 129ms/step\n",
            "Epoch 84/100\n",
            "121/121 - 17s - loss: 0.0048 - accuracy: 0.9366 - val_loss: 0.0591 - val_accuracy: 0.9864 - 17s/epoch - 138ms/step\n",
            "Epoch 85/100\n",
            "121/121 - 16s - loss: 0.0046 - accuracy: 0.9390 - val_loss: 0.0548 - val_accuracy: 0.9873 - 16s/epoch - 129ms/step\n",
            "Epoch 86/100\n",
            "121/121 - 16s - loss: 0.0045 - accuracy: 0.9416 - val_loss: 0.0549 - val_accuracy: 0.9866 - 16s/epoch - 133ms/step\n",
            "Epoch 87/100\n",
            "121/121 - 16s - loss: 0.0047 - accuracy: 0.9390 - val_loss: 0.0625 - val_accuracy: 0.9854 - 16s/epoch - 136ms/step\n",
            "Epoch 88/100\n",
            "121/121 - 16s - loss: 0.0045 - accuracy: 0.9402 - val_loss: 0.0578 - val_accuracy: 0.9854 - 16s/epoch - 130ms/step\n",
            "Epoch 89/100\n",
            "121/121 - 17s - loss: 0.0046 - accuracy: 0.9408 - val_loss: 0.0523 - val_accuracy: 0.9885 - 17s/epoch - 137ms/step\n",
            "Epoch 90/100\n",
            "121/121 - 17s - loss: 0.0046 - accuracy: 0.9403 - val_loss: 0.0558 - val_accuracy: 0.9882 - 17s/epoch - 137ms/step\n",
            "Epoch 91/100\n",
            "121/121 - 16s - loss: 0.0046 - accuracy: 0.9407 - val_loss: 0.0579 - val_accuracy: 0.9863 - 16s/epoch - 134ms/step\n",
            "Epoch 92/100\n",
            "121/121 - 15s - loss: 0.0043 - accuracy: 0.9435 - val_loss: 0.0505 - val_accuracy: 0.9893 - 15s/epoch - 127ms/step\n",
            "Epoch 93/100\n",
            "121/121 - 16s - loss: 0.0047 - accuracy: 0.9412 - val_loss: 0.0550 - val_accuracy: 0.9880 - 16s/epoch - 130ms/step\n",
            "Epoch 94/100\n",
            "121/121 - 16s - loss: 0.0045 - accuracy: 0.9404 - val_loss: 0.0564 - val_accuracy: 0.9884 - 16s/epoch - 129ms/step\n",
            "Epoch 95/100\n",
            "121/121 - 17s - loss: 0.0046 - accuracy: 0.9414 - val_loss: 0.0511 - val_accuracy: 0.9895 - 17s/epoch - 140ms/step\n",
            "Epoch 96/100\n",
            "121/121 - 16s - loss: 0.0042 - accuracy: 0.9428 - val_loss: 0.0501 - val_accuracy: 0.9894 - 16s/epoch - 132ms/step\n",
            "Epoch 97/100\n",
            "121/121 - 16s - loss: 0.0041 - accuracy: 0.9476 - val_loss: 0.0455 - val_accuracy: 0.9912 - 16s/epoch - 136ms/step\n",
            "Epoch 98/100\n",
            "121/121 - 16s - loss: 0.0044 - accuracy: 0.9427 - val_loss: 0.0456 - val_accuracy: 0.9889 - 16s/epoch - 130ms/step\n",
            "Epoch 99/100\n",
            "121/121 - 16s - loss: 0.0041 - accuracy: 0.9457 - val_loss: 0.0472 - val_accuracy: 0.9900 - 16s/epoch - 134ms/step\n",
            "Epoch 100/100\n",
            "121/121 - 18s - loss: 0.0041 - accuracy: 0.9461 - val_loss: 0.0490 - val_accuracy: 0.9888 - 18s/epoch - 145ms/step\n"
          ]
        }
      ],
      "source": [
        "history = model.fit_generator(train_gen,\n",
        "                              steps_per_epoch=len(X) // batch_size,\n",
        "                              validation_data=val_gen,\n",
        "                              validation_steps=len(Xt) // batch_size,\n",
        "                              class_weight=class_weight,\n",
        "                              epochs=100, \n",
        "                              verbose=2)"
      ]
    },
    {
      "cell_type": "code",
      "execution_count": 15,
      "metadata": {
        "colab": {
          "base_uri": "https://localhost:8080/"
        },
        "id": "rQYvzGC5cuDU",
        "outputId": "f6ad1fa1-c371-4695-aadc-e6cc369bfa01"
      },
      "outputs": [
        {
          "output_type": "stream",
          "name": "stdout",
          "text": [
            "Best validation accuracy: 0.991\n"
          ]
        }
      ],
      "source": [
        "print(\"Best validation accuracy: {:0.3f}\"\n",
        "       .format(np.max(history.history['val_accuracy'])))"
      ]
    },
    {
      "cell_type": "code",
      "execution_count": 17,
      "metadata": {
        "colab": {
          "base_uri": "https://localhost:8080/",
          "height": 279
        },
        "id": "iJeKTTOPq_Tl",
        "outputId": "77fcbd78-b629-4305-daf3-2fb6e4877559"
      },
      "outputs": [
        {
          "output_type": "display_data",
          "data": {
            "text/plain": [
              "<Figure size 432x288 with 1 Axes>"
            ],
            "image/png": "[encoded data removed]"
          },
          "metadata": {
            "needs_background": "light"
          }
        }
      ],
      "source": [
        "plt.plot(history.history['accuracy'])\n",
        "plt.plot(history.history['val_accuracy'])\n",
        "plt.ylabel('accuracy'); plt.xlabel('epochs')\n",
        "plt.legend(['train', 'test'], loc='lower right')\n",
        "plt.show()"
      ]
    }
  ],
  "metadata": {
    "accelerator": "GPU",
    "colab": {
      "collapsed_sections": [],
      "name": "German_traffic_sign_benchmark.ipynb",
      "provenance": []
    },
    "kernelspec": {
      "display_name": "Python [conda env:dl4dummies]",
      "language": "python",
      "name": "conda-env-dl4dummies-py"
    },
    "language_info": {
      "codemirror_mode": {
        "name": "ipython",
        "version": 3
      },
      "file_extension": ".py",
      "mimetype": "text/x-python",
      "name": "python",
      "nbconvert_exporter": "python",
      "pygments_lexer": "ipython3",
      "version": "3.6.6"
    }
  },
  "nbformat": 4,
  "nbformat_minor": 0
}