{
  "cells": [
    {
      "cell_type": "markdown",
      "metadata": {
        "id": "Jn_Za02X6C9w"
      },
      "source": [
        "# Using AI for Sentiment Analysis"
      ]
    },
    {
      "cell_type": "code",
      "execution_count": 1,
      "metadata": {
        "colab": {
          "base_uri": "https://localhost:8080/"
        },
        "id": "UX_T91_YMcD6",
        "outputId": "557af05b-3e9b-477a-e9cd-fa04d77c59b0"
      },
      "outputs": [
        {
          "output_type": "stream",
          "name": "stdout",
          "text": [
            "Downloading data from https://storage.googleapis.com/tensorflow/tf-keras-datasets/imdb.npz\n",
            "17465344/17464789 [==============================] - 0s 0us/step\n",
            "17473536/17464789 [==============================] - 0s 0us/step\n"
          ]
        }
      ],
      "source": [
        "from tensorflow.keras.datasets import imdb\n",
        "\n",
        "top_words = 10000\n",
        "((x_train, y_train), \n",
        " (x_test, y_test)) = imdb.load_data(num_words=top_words,\n",
        "                                    seed=21)"
      ]
    },
    {
      "cell_type": "code",
      "execution_count": 2,
      "metadata": {
        "colab": {
          "base_uri": "https://localhost:8080/"
        },
        "id": "X6Yolc6KMjgu",
        "outputId": "a73fa682-a9fd-4c15-e2b6-15c9f672fb47"
      },
      "outputs": [
        {
          "output_type": "stream",
          "name": "stdout",
          "text": [
            "Training examples: 25000\n",
            "Test examples: 25000\n"
          ]
        }
      ],
      "source": [
        "print(\"Training examples: %i\" % len(x_train))\n",
        "print(\"Test examples: %i\" % len(x_test))"
      ]
    },
    {
      "cell_type": "code",
      "execution_count": 3,
      "metadata": {
        "colab": {
          "base_uri": "https://localhost:8080/"
        },
        "id": "hlJug4QzMsUv",
        "outputId": "021de26b-943b-4226-bd12-2cca8a5d68c7"
      },
      "outputs": [
        {
          "output_type": "stream",
          "name": "stdout",
          "text": [
            "(array([0, 1]), array([12500, 12500]))\n"
          ]
        }
      ],
      "source": [
        "import numpy as np\n",
        "print(np.unique(y_train, return_counts=True))"
      ]
    },
    {
      "cell_type": "code",
      "execution_count": 4,
      "metadata": {
        "colab": {
          "base_uri": "https://localhost:8080/"
        },
        "id": "Lu0LbdjGMz9B",
        "outputId": "2d2530e4-6ab6-494e-f888-c1449ae567db"
      },
      "outputs": [
        {
          "output_type": "stream",
          "name": "stdout",
          "text": [
            "Downloading data from https://storage.googleapis.com/tensorflow/tf-keras-datasets/imdb_word_index.json\n",
            "1646592/1641221 [==============================] - 0s 0us/step\n",
            "1654784/1641221 [==============================] - 0s 0us/step\n"
          ]
        }
      ],
      "source": [
        "word_to_id = {w:i+3 for w,i in imdb.get_word_index().items()}\n",
        "id_to_word = {0:'<PAD>', 1:'<START>', 2:'<UNK>'}\n",
        "id_to_word.update({i+3:w for w,i in imdb.get_word_index().items()})\n",
        "\n",
        "def convert_to_text(sequence):\n",
        "    return ' '.join([id_to_word[s] for s in sequence if s>=3])"
      ]
    },
    {
      "cell_type": "code",
      "execution_count": 5,
      "metadata": {
        "colab": {
          "base_uri": "https://localhost:8080/"
        },
        "id": "gzIO8l0aM5fI",
        "outputId": "53ffd5d7-9bfc-42d8-b2a4-45c6f4ac6c05"
      },
      "outputs": [
        {
          "output_type": "stream",
          "name": "stdout",
          "text": [
            "this movie was like a bad train wreck as horrible as it was you still had to continue to watch my boyfriend and i rented it and wasted two hours of our day now don't get me wrong the acting is good just the movie as a whole just both of us there wasn't anything positive or good about this scenario after this movie i had to go rent something else that was a little lighter jennifer is as usual a very dramatic actress her character seems manic and not all there hannah though over played she does a wonderful job playing out the situation she is in more than once i found myself yelling at the tv telling her to fight back or to get violent all in all very violent movie not for the faint of heart\n"
          ]
        }
      ],
      "source": [
        " print(convert_to_text(x_train[8]))"
      ]
    },
    {
      "cell_type": "code",
      "execution_count": 6,
      "metadata": {
        "id": "gWk7m_SUNEvR"
      },
      "outputs": [],
      "source": [
        "from tensorflow.keras.preprocessing.sequence import pad_sequences\n",
        "\n",
        "max_pad = 200\n",
        "x_train = pad_sequences(x_train, \n",
        "                        maxlen=max_pad)\n",
        "\n",
        "x_test = pad_sequences(x_test, \n",
        "                       maxlen=max_pad)"
      ]
    },
    {
      "cell_type": "code",
      "execution_count": 7,
      "metadata": {
        "colab": {
          "base_uri": "https://localhost:8080/"
        },
        "id": "eVw5xd-ehQBh",
        "outputId": "d679c3df-426e-4d1b-e023-78208b290fa8"
      },
      "outputs": [
        {
          "output_type": "stream",
          "name": "stdout",
          "text": [
            "[  88    4 3310  406 6762    2    4  427 2140 1656 4042    2   11   41\n",
            "    2  494   46 1954 4712  198   51   13  683 1193   10   10  198   66\n",
            "   89    4  114  495 7303  197    4 1168 1656   61  492 1131    7 5388\n",
            "   21   13  839   90  145    8  113   34 8253   27    2   19   15    7\n",
            "    6 8870 3310   88 8222   92    2    8 5388    5 1037    2    2 2864\n",
            "    2  449  168    6  404    2  112  207 1075    4  375 5986    7    4\n",
            "  406 1522   13  124  903   97   90    2   21    2   48   32  148 3310\n",
            "    2    2   93   61  492    2  305    7    2    4  893 8016   13  401\n",
            " 5679   83   27  117 2687 5419   29  941 1889   90   21  808   14   46\n",
            "  793    4 1526   84   37   28   34   96    7   49    2  114 1009 1054\n",
            "   56   23   61 2301 1111    9    4  255    8  937   61  492   16 3953\n",
            "  159   29 1131   13 2134 3872   81   41   32   14  832   56    8   35\n",
            "  576 1301    5 5348 3134  255  335  170    8    2   72 1168 1656   57\n",
            "   29    9    2    2 3310  415   11 5215   89 1047   10   10   81   24\n",
            "  106   14   20  126]\n"
          ]
        }
      ],
      "source": [
        "print(x_train[0])"
      ]
    },
    {
      "cell_type": "code",
      "execution_count": 10,
      "metadata": {
        "colab": {
          "base_uri": "https://localhost:8080/"
        },
        "id": "kVYCBmKuNNG8",
        "outputId": "d5f41079-1208-4f22-afb3-42a23fa2ba39"
      },
      "outputs": [
        {
          "output_type": "stream",
          "name": "stdout",
          "text": [
            "Model: \"sequential\"\n",
            "_________________________________________________________________\n",
            " Layer (type)                Output Shape              Param #   \n",
            "=================================================================\n",
            " embedding (Embedding)       (None, 200, 32)           320000    \n",
            "                                                                 \n",
            " bidirectional (Bidirectiona  (None, 200, 128)         49664     \n",
            " l)                                                              \n",
            "                                                                 \n",
            " global_max_pooling1d (Globa  (None, 128)              0         \n",
            " lMaxPooling1D)                                                  \n",
            "                                                                 \n",
            " dense (Dense)               (None, 16)                2064      \n",
            "                                                                 \n",
            " dense_1 (Dense)             (None, 1)                 17        \n",
            "                                                                 \n",
            "=================================================================\n",
            "Total params: 371,745\n",
            "Trainable params: 371,745\n",
            "Non-trainable params: 0\n",
            "_________________________________________________________________\n",
            "None\n"
          ]
        }
      ],
      "source": [
        "from tensorflow.keras.models import Sequential \n",
        "from tensorflow.keras.layers import Bidirectional, Dense, Dropout \n",
        "from tensorflow.keras.layers import GlobalMaxPool1D, LSTM\n",
        "from tensorflow.keras.layers import Embedding \n",
        "\n",
        "embedding_vector_length = 32 \n",
        "model = Sequential() \n",
        "model.add(Embedding(top_words, \n",
        "                    embedding_vector_length, \n",
        "                    input_length=max_pad)) \n",
        "\n",
        "model.add(Bidirectional(LSTM(64, return_sequences=True)))\n",
        "model.add(GlobalMaxPool1D())\n",
        "model.add(Dense(16, activation=\"relu\"))\n",
        "model.add(Dense(1, activation=\"sigmoid\"))\n",
        "\n",
        "model.compile(loss='binary_crossentropy',\n",
        "              optimizer='adam', \n",
        "              metrics=['accuracy']) \n",
        "\n",
        "print(model.summary())"
      ]
    },
    {
      "cell_type": "code",
      "execution_count": 11,
      "metadata": {
        "colab": {
          "base_uri": "https://localhost:8080/"
        },
        "id": "FinShkHdNNzF",
        "outputId": "bcd5d895-6f16-4c8b-f372-17587ae51950"
      },
      "outputs": [
        {
          "output_type": "stream",
          "name": "stdout",
          "text": [
            "Epoch 1/3\n",
            "98/98 [==============================] - 13s 44ms/step - loss: 0.6676 - accuracy: 0.5943 - val_loss: 0.6202 - val_accuracy: 0.6784\n",
            "Epoch 2/3\n",
            "98/98 [==============================] - 4s 40ms/step - loss: 0.5624 - accuracy: 0.7460 - val_loss: 0.4822 - val_accuracy: 0.7996\n",
            "Epoch 3/3\n",
            "98/98 [==============================] - 4s 38ms/step - loss: 0.4391 - accuracy: 0.8000 - val_loss: 0.3499 - val_accuracy: 0.8489\n"
          ]
        }
      ],
      "source": [
        "history = model.fit(x_train, y_train, \n",
        "                    validation_data=(x_test, y_test), \n",
        "                    epochs=3, batch_size=256)"
      ]
    },
    {
      "cell_type": "code",
      "execution_count": 12,
      "metadata": {
        "colab": {
          "base_uri": "https://localhost:8080/"
        },
        "id": "YiqSasCNNWic",
        "outputId": "b0b05855-0603-4f2a-fc14-26f428e23413"
      },
      "outputs": [
        {
          "output_type": "stream",
          "name": "stdout",
          "text": [
            "Test accuracy: 0.849\n"
          ]
        }
      ],
      "source": [
        "loss, metric = model.evaluate(x_test, y_test, verbose=0)\n",
        "print(\"Test accuracy: %0.3f\" % metric)"
      ]
    }
  ],
  "metadata": {
    "accelerator": "GPU",
    "colab": {
      "collapsed_sections": [],
      "name": "DL4D_14_movie_sentiment.ipynb",
      "provenance": []
    },
    "kernelspec": {
      "display_name": "Python 3",
      "language": "python",
      "name": "python3"
    },
    "language_info": {
      "codemirror_mode": {
        "name": "ipython",
        "version": 3
      },
      "file_extension": ".py",
      "mimetype": "text/x-python",
      "name": "python",
      "nbconvert_exporter": "python",
      "pygments_lexer": "ipython3",
      "version": "3.6.6"
    }
  },
  "nbformat": 4,
  "nbformat_minor": 0
}